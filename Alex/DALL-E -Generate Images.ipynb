{
 "cells": [
  {
   "cell_type": "code",
   "execution_count": null,
   "metadata": {},
   "outputs": [],
   "source": [
    "# DALL-E Integration with Python\n",
    "# This notebook demonstrates how to use OpenAI's DALL-E API to generate images directly within a Python environment."
   ]
  },
  {
   "cell_type": "code",
   "execution_count": null,
   "metadata": {},
   "outputs": [],
   "source": [
    "!pip install --upgrade openai"
   ]
  },
  {
   "cell_type": "code",
   "execution_count": null,
   "metadata": {},
   "outputs": [],
   "source": [
    "# Import required libraries\n",
    "import openai\n",
    "from PIL import Image \n",
    "import requests\n",
    "from io import BytesIO\n",
    "from IPython.display import Markdown, display"
   ]
  },
  {
   "cell_type": "code",
   "execution_count": null,
   "metadata": {},
   "outputs": [],
   "source": [
    "# Set OpenAI API key\n",
    "openai.api_key = \"OPENAI_API_KEY\""
   ]
  },
  {
   "cell_type": "code",
   "execution_count": null,
   "metadata": {},
   "outputs": [],
   "source": [
    "def generate_image(prompt, model=\"dall-e-3\", size=\"1024x1024\"):\n",
    "    \"\"\"Generate an image using OpenAI's DALL-E API.\"\"\"\n",
    "    response = openai.images.generate(  # Use openai.images.generate instead of openai.Image.create\n",
    "        prompt=prompt,\n",
    "        model=model,\n",
    "        size=size,\n",
    "        n=1,\n",
    "        response_format=\"url\"\n",
    "    )\n",
    "    # Access the image URL using attribute access\n",
    "    image_url = response.data[0].url  \n",
    "    return image_url"
   ]
  },
  {
   "cell_type": "code",
   "execution_count": null,
   "metadata": {},
   "outputs": [],
   "source": [
    "def generate_workout_image(workout_plan):\n",
    "    return generate_image(workout_plan)"
   ]
  },
  {
   "cell_type": "code",
   "execution_count": null,
   "metadata": {},
   "outputs": [],
   "source": [
    "def generate_meal_image(meal_plan):\n",
    "    return generate_image(meal_plan)"
   ]
  },
  {
   "cell_type": "code",
   "execution_count": null,
   "metadata": {},
   "outputs": [],
   "source": [
    "def display_results_with_images(workout, meal, ai_recommendation, workout_image_url, meal_image_url):\n",
    "    \"\"\"Display workout, meal plans, AI recommendations, and generated images.\"\"\"\n",
    "    display(Markdown(f\"## Workout Plan\\n{workout}\"))\n",
    "    if \"http\" in workout_image_url:\n",
    "        display(Markdown(f\"![Workout Image]({workout_image_url})\"))\n",
    "    else:\n",
    "        display(Markdown(f\"Error: Unable to generate workout image\"))\n",
    "\n",
    "    display(Markdown(f\"## Meal Plan\\n{meal}\"))\n",
    "    if \"http\" in meal_image_url:\n",
    "        display(Markdown(f\"![Meal Image]({meal_image_url})\"))\n",
    "    else:\n",
    "        display(Markdown(f\"Error: Unable to generate meal image\"))\n",
    "\n",
    "    display(Markdown(f\"## AI Recommendation\\n{ai_recommendation}\"))\n",
    "\n",
    "# Define workout_plan and meal_plan before using them\n",
    "workout_plan = \"30 minutes of jogging followed by 10 push-ups and 10 sit-ups\"  # Example workout plan\n",
    "meal_plan = \"Grilled chicken salad with a side of brown rice\"  # Example meal plan\n",
    "\n",
    "# Generate images\n",
    "workout_image_url = generate_workout_image(workout_plan)\n",
    "meal_image_url = generate_meal_image(meal_plan)\n",
    "\n",
    "# Define or assign a value to 'recommendation' before calling the function\n",
    "recommendation = \"Consider adding a light snack like fruits or nuts between meals to keep your energy levels up.\" # Example recommendation\n",
    "\n",
    "# Use the updated function\n",
    "display_results_with_images(workout_plan, meal_plan, recommendation, workout_image_url, meal_image_url)"
   ]
  },
  {
   "cell_type": "code",
   "execution_count": null,
   "metadata": {},
   "outputs": [],
   "source": []
  },
  {
   "cell_type": "code",
   "execution_count": null,
   "metadata": {},
   "outputs": [],
   "source": []
  },
  {
   "cell_type": "code",
   "execution_count": null,
   "metadata": {},
   "outputs": [],
   "source": []
  },
  {
   "cell_type": "raw",
   "metadata": {},
   "source": []
  },
  {
   "cell_type": "code",
   "execution_count": null,
   "metadata": {},
   "outputs": [],
   "source": []
  }
 ],
 "metadata": {
  "kernelspec": {
   "display_name": "Python 3 (ipykernel)",
   "language": "python",
   "name": "python3"
  },
  "language_info": {
   "codemirror_mode": {
    "name": "ipython",
    "version": 3
   },
   "file_extension": ".py",
   "mimetype": "text/x-python",
   "name": "python",
   "nbconvert_exporter": "python",
   "pygments_lexer": "ipython3",
   "version": "3.12.2"
  }
 },
 "nbformat": 4,
 "nbformat_minor": 4
}
