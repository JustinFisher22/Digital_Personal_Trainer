{
 "cells": [
  {
   "cell_type": "code",
   "execution_count": 15,
   "id": "59b77de4-1c58-44d2-94af-706fbd0e5bc1",
   "metadata": {},
   "outputs": [],
   "source": [
    "import requests\n",
    "from bs4 import BeautifulSoup\n",
    "import pandas as pd "
   ]
  },
  {
   "cell_type": "code",
   "execution_count": 17,
   "id": "e746fb5a",
   "metadata": {},
   "outputs": [],
   "source": [
    "def scrape_amazon_reviews(product_url):\n",
    "    \"\"\"\n",
    "    Scrapes review data from a given Amazon product URL and returns a list of dictionaries. \n",
    "    \n",
    "    Args:\n",
    "        product_url (str): The URL of the Amazon product page. \n",
    "    \n",
    "    Returns:\n",
    "        list: A list of dictionaries, each containing review data (rating, review text, reviewer, etc.)\n",
    "    \"\"\"\n",
    "    \n",
    "    reviews_data = [] \n",
    "    response = requests.get(product_url)\n",
    "    soup = BeautifulSoup(response.content, 'html.parser') \n",
    "    \n",
    "    review_containers = soup.find_all('div', class_='review-container')  # Adjust class name based on Amazon HTML structure \n",
    "    \n",
    "    for container in review_containers:\n",
    "        review = {}\n",
    "        \n",
    "        # Extract rating \n",
    "        review['rating'] = container.find('span', class_='review-rating').text.strip() \n",
    "        \n",
    "        # Extract review text \n",
    "        review_text = container.find('span', class_='review-text').text.strip() \n",
    "        review['review_text'] = review_text \n",
    "        \n",
    "        # Extract reviewer name (if available)\n",
    "        reviewer = container.find('span', class_='reviewer-name').text.strip()  \n",
    "        review['reviewer'] = reviewer \n",
    "        \n",
    "        reviews_data.append(review) \n",
    "    \n",
    "    return reviews_data "
   ]
  },
  {
   "cell_type": "code",
   "execution_count": 19,
   "id": "1ac80e72-ce32-4ce4-a49c-f91a0ee04a9e",
   "metadata": {},
   "outputs": [],
   "source": [
    "product_url = \"https://www.amazon.com/Body-Fortress-Advanced-Chocolate-Vitamins/dp/B0BJLBD427/ref=sr_1_7?crid=P6PH5V9G6PUY&dib=eyJ2IjoiMSJ9.P3EwSIGhqvzZYsZnZy-_ai7dxGL8AmpAZub7WTBdochcP4YmJ-4sSErYqn0rLtHMrCCsXb6s5D9_YZSqfUQUzba0LNw1xPKQM4X9cd1MdEz9TceeGCDYTFLON7qI0yriinMGxmbYjvjSSLOOYwMLNiBGxH1H7W-PcszanV7N9ewyn-YAShvldFw_3NuKPCLthvyXiEwI4C7KnowUXTyfbNwu9LFLgVQDbwXoJC_iX6PL7LoNuLqPgin9ePlSBEV4RDSh5aVw7O5YZqpQP7B_XtfWnPUp3j9gbKFTkAqiKRy7qcxS3K8Ef4gIsnuKQwKQjwCC-oFAQlSpeSdqJCpOKA3oclJhmJyXKPSq2VKELZSShQReZHhwLBA25pVxwsdc0QDvQfeWwRfvxH1ddD7TUOwRGxV_kAvd2J6IknA0Q1WJRfRwImenzWzvAtxxNRgM.FWdSFMDbmmgqMyvPHp_UAaHDqCPBt3mVHNmrmm-5c7c&dib_tag=se&keywords=protein+powder&qid=1734488717&rdc=1&sprefix=prote%2Caps%2C205&sr=8-7\"  # Replace with your desired product URL\n",
    "reviews = scrape_amazon_reviews(product_url) "
   ]
  },
  {
   "cell_type": "code",
   "execution_count": 21,
   "id": "4e6543c9-ee03-4c85-b7aa-3a188d4fab3f",
   "metadata": {},
   "outputs": [],
   "source": [
    "# Create a Pandas DataFrame and export to CSV\n",
    "df = pd.DataFrame(reviews)\n",
    "df.to_csv('amazon_reviews.csv', index=False) "
   ]
  },
  {
   "cell_type": "code",
   "execution_count": null,
   "id": "2f03c957-a985-4054-84c5-fa4c964d0a85",
   "metadata": {},
   "outputs": [],
   "source": []
  },
  {
   "cell_type": "code",
   "execution_count": 40,
   "id": "4c4212c2-080c-4e72-9c9e-c50fe8dc087d",
   "metadata": {},
   "outputs": [],
   "source": []
  },
  {
   "cell_type": "code",
   "execution_count": null,
   "id": "0b3bd0c1-dabe-4b79-adaa-7681f96fb0be",
   "metadata": {},
   "outputs": [],
   "source": []
  },
  {
   "cell_type": "code",
   "execution_count": null,
   "id": "6c3d3268-e41f-49ce-ae80-50d8dddeeca0",
   "metadata": {},
   "outputs": [],
   "source": []
  },
  {
   "cell_type": "code",
   "execution_count": null,
   "id": "70568368-9d0f-4008-9cd3-534f69ea6173",
   "metadata": {},
   "outputs": [],
   "source": []
  },
  {
   "cell_type": "code",
   "execution_count": null,
   "id": "58067e4c-347f-499a-95b2-8e063a95c594",
   "metadata": {},
   "outputs": [],
   "source": []
  },
  {
   "cell_type": "code",
   "execution_count": null,
   "id": "45d8080f-ccd1-4c68-80a4-fb7ceaf65eac",
   "metadata": {},
   "outputs": [],
   "source": []
  },
  {
   "cell_type": "code",
   "execution_count": null,
   "id": "ec41cfdc-c94f-425c-bbbd-c3edfa367776",
   "metadata": {},
   "outputs": [],
   "source": []
  },
  {
   "cell_type": "code",
   "execution_count": null,
   "id": "61715e8e-a8f2-46c2-ba90-18cc56291cf1",
   "metadata": {},
   "outputs": [],
   "source": []
  },
  {
   "cell_type": "code",
   "execution_count": null,
   "id": "f1433383-c11e-4c08-ba9e-4125719c89f5",
   "metadata": {},
   "outputs": [],
   "source": []
  },
  {
   "cell_type": "code",
   "execution_count": null,
   "id": "2b184d1d-a87a-4838-a3f0-d079b0b7d357",
   "metadata": {},
   "outputs": [],
   "source": []
  },
  {
   "cell_type": "code",
   "execution_count": null,
   "id": "1acecf91-f68b-4d16-83fc-86b0aece60d7",
   "metadata": {},
   "outputs": [],
   "source": []
  },
  {
   "cell_type": "code",
   "execution_count": null,
   "id": "73555229-cb41-42b1-8c49-cc3a11dfa60d",
   "metadata": {},
   "outputs": [],
   "source": []
  },
  {
   "cell_type": "code",
   "execution_count": null,
   "id": "2f26a7de-266e-4129-acfc-460b22d78e43",
   "metadata": {},
   "outputs": [],
   "source": []
  },
  {
   "cell_type": "code",
   "execution_count": null,
   "id": "f20b335c-aff4-4af2-89f2-4bdbe10b5056",
   "metadata": {},
   "outputs": [],
   "source": [
    "\n"
   ]
  },
  {
   "cell_type": "code",
   "execution_count": null,
   "id": "308a6c2c-8110-4556-8d63-42d2a96f34bd",
   "metadata": {},
   "outputs": [],
   "source": []
  },
  {
   "cell_type": "code",
   "execution_count": null,
   "id": "ee5974fc-0601-46e7-8a0a-7b0e99e122a8",
   "metadata": {},
   "outputs": [],
   "source": []
  },
  {
   "cell_type": "code",
   "execution_count": null,
   "id": "44a66d71-9e4e-461d-a195-44ebc21c6b4c",
   "metadata": {},
   "outputs": [],
   "source": []
  },
  {
   "cell_type": "code",
   "execution_count": null,
   "id": "730f2635-ad41-4797-8f72-fb3b0381b880",
   "metadata": {},
   "outputs": [],
   "source": []
  },
  {
   "cell_type": "code",
   "execution_count": null,
   "id": "86b67137-73da-43d7-923e-dc1ca44b2c3e",
   "metadata": {},
   "outputs": [],
   "source": []
  },
  {
   "cell_type": "code",
   "execution_count": null,
   "id": "3ae9fc47-78ff-4a23-b6ff-68e861e70f05",
   "metadata": {},
   "outputs": [],
   "source": []
  },
  {
   "cell_type": "code",
   "execution_count": null,
   "id": "c70bb7e9-bb96-4d68-9d31-c95a49b9b2b6",
   "metadata": {},
   "outputs": [],
   "source": []
  },
  {
   "cell_type": "code",
   "execution_count": null,
   "id": "dd207af3-de54-44bf-9689-d60542eda9e8",
   "metadata": {},
   "outputs": [],
   "source": []
  },
  {
   "cell_type": "code",
   "execution_count": null,
   "id": "20c0d3be-eec3-486a-a197-00e5368c96d4",
   "metadata": {},
   "outputs": [],
   "source": []
  },
  {
   "cell_type": "code",
   "execution_count": null,
   "id": "2c7e5fe9-6420-46b3-9b4d-d76b8ac5724b",
   "metadata": {},
   "outputs": [],
   "source": []
  },
  {
   "cell_type": "code",
   "execution_count": null,
   "id": "41ed92b0-5888-450d-a6aa-0121ea0c980e",
   "metadata": {},
   "outputs": [],
   "source": []
  },
  {
   "cell_type": "code",
   "execution_count": null,
   "id": "0d47a4a4-4515-430f-927d-027d3bd2fa6f",
   "metadata": {},
   "outputs": [],
   "source": []
  },
  {
   "cell_type": "code",
   "execution_count": null,
   "id": "1b2305aa-f146-4d7a-a276-25fe615ad47a",
   "metadata": {},
   "outputs": [],
   "source": []
  },
  {
   "cell_type": "code",
   "execution_count": null,
   "id": "5398ef91-6cb0-48d9-8065-529dd040a154",
   "metadata": {},
   "outputs": [],
   "source": []
  },
  {
   "cell_type": "code",
   "execution_count": null,
   "id": "e0069aec-ad63-455b-b2b6-ce48d7122929",
   "metadata": {},
   "outputs": [],
   "source": []
  },
  {
   "cell_type": "code",
   "execution_count": null,
   "id": "e2edfd56-c53d-43a0-8df4-c7b24fa73b17",
   "metadata": {},
   "outputs": [],
   "source": []
  },
  {
   "cell_type": "code",
   "execution_count": null,
   "id": "bc390096-4b78-4c83-9683-12111848e4ee",
   "metadata": {},
   "outputs": [],
   "source": []
  },
  {
   "cell_type": "code",
   "execution_count": null,
   "id": "5ae9fd83-33c6-4a05-a424-fd91456549f0",
   "metadata": {},
   "outputs": [],
   "source": []
  },
  {
   "cell_type": "code",
   "execution_count": null,
   "id": "06c59079-50c9-408d-b677-32428d89a38b",
   "metadata": {},
   "outputs": [],
   "source": []
  },
  {
   "cell_type": "code",
   "execution_count": null,
   "id": "2fd93759-34b0-4d6d-a476-32b6eaac2036",
   "metadata": {},
   "outputs": [],
   "source": [
    "\n"
   ]
  },
  {
   "cell_type": "code",
   "execution_count": null,
   "id": "42cfcaaf-bb26-4edd-8258-8536398f5683",
   "metadata": {},
   "outputs": [],
   "source": []
  },
  {
   "cell_type": "code",
   "execution_count": null,
   "id": "0ce03087-eb0d-43d2-856a-d2b7438a26b6",
   "metadata": {},
   "outputs": [],
   "source": []
  },
  {
   "cell_type": "code",
   "execution_count": null,
   "id": "1c8796d2-733c-4f27-935b-cd39774b3349",
   "metadata": {},
   "outputs": [],
   "source": []
  },
  {
   "cell_type": "code",
   "execution_count": null,
   "id": "7ba358e5-1e7a-44db-88d1-31094cfbd6dd",
   "metadata": {},
   "outputs": [],
   "source": []
  },
  {
   "cell_type": "code",
   "execution_count": null,
   "id": "c5ac96e1-f6e5-40f5-8603-eb21f01a3019",
   "metadata": {},
   "outputs": [],
   "source": []
  },
  {
   "cell_type": "code",
   "execution_count": null,
   "id": "6b959524-b4e9-4651-ad29-b264c0d7bc3a",
   "metadata": {},
   "outputs": [],
   "source": []
  },
  {
   "cell_type": "code",
   "execution_count": null,
   "id": "c848ad48-c993-4030-95f3-737e629fa303",
   "metadata": {},
   "outputs": [],
   "source": []
  },
  {
   "cell_type": "code",
   "execution_count": null,
   "id": "de7a78c5-68bd-409c-b138-b9a219712c7f",
   "metadata": {},
   "outputs": [],
   "source": []
  },
  {
   "cell_type": "code",
   "execution_count": null,
   "id": "67174cd8-3098-4379-91da-c8f7c25ddbd4",
   "metadata": {},
   "outputs": [],
   "source": []
  },
  {
   "cell_type": "code",
   "execution_count": null,
   "id": "15368f60-5edc-4325-bdaf-e5d391d2696c",
   "metadata": {},
   "outputs": [],
   "source": []
  },
  {
   "cell_type": "code",
   "execution_count": null,
   "id": "cc442a19-64dc-47b8-99f4-9737481a515c",
   "metadata": {},
   "outputs": [],
   "source": []
  },
  {
   "cell_type": "code",
   "execution_count": null,
   "id": "d56a167b-ca1b-4815-aa86-1ba9f8113977",
   "metadata": {},
   "outputs": [],
   "source": []
  },
  {
   "cell_type": "code",
   "execution_count": null,
   "id": "2edf98f5-1b10-4785-a26c-f47796b1f2a6",
   "metadata": {},
   "outputs": [],
   "source": []
  },
  {
   "cell_type": "code",
   "execution_count": null,
   "id": "4347346c-510c-402b-baf7-92422735dac7",
   "metadata": {},
   "outputs": [],
   "source": []
  },
  {
   "cell_type": "code",
   "execution_count": null,
   "id": "9edb71b7-2118-4bd2-85bd-d4b1ac5dc556",
   "metadata": {},
   "outputs": [],
   "source": []
  },
  {
   "cell_type": "code",
   "execution_count": null,
   "id": "7e8972b8-f12d-4106-8324-4bd62430bfb5",
   "metadata": {},
   "outputs": [],
   "source": []
  }
 ],
 "metadata": {
  "kernelspec": {
   "display_name": "Python 3 (ipykernel)",
   "language": "python",
   "name": "python3"
  },
  "language_info": {
   "codemirror_mode": {
    "name": "ipython",
    "version": 3
   },
   "file_extension": ".py",
   "mimetype": "text/x-python",
   "name": "python",
   "nbconvert_exporter": "python",
   "pygments_lexer": "ipython3",
   "version": "3.12.2"
  }
 },
 "nbformat": 4,
 "nbformat_minor": 5
}
