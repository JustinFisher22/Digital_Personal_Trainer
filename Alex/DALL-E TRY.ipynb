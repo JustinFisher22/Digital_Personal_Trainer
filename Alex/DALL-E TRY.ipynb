{
 "cells": [
  {
   "cell_type": "code",
   "execution_count": null,
   "metadata": {},
   "outputs": [],
   "source": [
    "pip install openai"
   ]
  },
  {
   "cell_type": "code",
   "execution_count": null,
   "metadata": {},
   "outputs": [],
   "source": [
    "pip install openai==1.0.0"
   ]
  },
  {
   "cell_type": "code",
   "execution_count": null,
   "metadata": {},
   "outputs": [],
   "source": [
    "import openai\n",
    "import os\n",
    "from IPython.display import Image\n",
    "from openai import OpenAI"
   ]
  },
  {
   "cell_type": "code",
   "execution_count": null,
   "metadata": {},
   "outputs": [],
   "source": [
    "from openai import OpenAI"
   ]
  },
  {
   "cell_type": "code",
   "execution_count": null,
   "metadata": {},
   "outputs": [],
   "source": [
    "client = OpenAI(\n",
    "  api_key=OPENAI_API_KEY,  \n",
    ")"
   ]
  },
  {
   "cell_type": "code",
   "execution_count": null,
   "metadata": {},
   "outputs": [],
   "source": [
    "def generate_workout_image(workout_description):\n",
    "    \"\"\"Generate an image using DALL·E based on the workout description.\"\"\"\n",
    "    prompt = f\"An illustration of a person doing the following workout: {workout_description}\"\n",
    "    try:\n",
    "        response = openai.Image.create(\n",
    "            model=\"image-encoder-v1\",\n",
    "            labels=[\"illustration\", \"workout\"],\n",
    "            prompt=prompt,\n",
    "            max_tokens=64\n",
    "        )\n",
    "        image_url = response['url']\n",
    "        return image_url\n",
    "    except Exception as e:\n",
    "        return f\"Error generating workout image: {str(e)}\" \n",
    "\n",
    "def generate_workout_image(workout_description):\n",
    "    \"\"\"Generate an image using DALL·E based on the workout description.\"\"\"\n",
    "    prompt = f\"An illustration of a person doing the following workout: {workout_description}\"\n",
    "    try:\n",
    "        response = openai.Image.create(\n",
    "            model=\"image-encoder-v1\",\n",
    "            labels=[\"illustration\", \"workout\"],\n",
    "            prompt=prompt,\n",
    "            max_tokens=64\n",
    "        )\n",
    "        image_url = response['url']\n",
    "        return image_url\n",
    "    except Exception as e:\n",
    "        return f\"Error generating workout image: {str(e)}\""
   ]
  },
  {
   "cell_type": "code",
   "execution_count": null,
   "metadata": {},
   "outputs": [],
   "source": [
    "def generate_meal_image(meal_description):\n",
    "    \"\"\"Generate an image using DALL·E based on the meal description.\"\"\"\n",
    "    prompt = f\"An artistic depiction of the following meal: {meal_description}\"\n",
    "    try:\n",
    "        response = openai.Image.create(\n",
    "            model=\"image-encoder-v1\",\n",
    "            labels=[\"illustration\", \"meal\"],\n",
    "            prompt=prompt,\n",
    "            max_tokens=64\n",
    "        )\n",
    "        image_url = response['url']\n",
    "        return image_url\n",
    "    except Exception as e:\n",
    "        return f\"Error generating meal image: {str(e)}\""
   ]
  },
  {
   "cell_type": "code",
   "execution_count": null,
   "metadata": {},
   "outputs": [],
   "source": [
    "# Define workout_plan and meal_plan before using them\n",
    "workout_plan = \"30 minutes of jogging followed by 10 push-ups and 10 sit-ups\"  # Example workout plan\n",
    "meal_plan = \"Grilled chicken salad with a side of brown rice\"  # Example meal plan"
   ]
  },
  {
   "cell_type": "code",
   "execution_count": null,
   "metadata": {},
   "outputs": [],
   "source": [
    "# Generate images\n",
    "workout_image_url = generate_workout_image(workout_plan)\n",
    "meal_image_url = generate_meal_image(meal_plan)"
   ]
  },
  {
   "cell_type": "code",
   "execution_count": null,
   "metadata": {},
   "outputs": [],
   "source": [
    "# Display results with images\n",
    "from IPython.display import Markdown, display  # Import Markdown here\n",
    "\n",
    "def display_results_with_images(workout, meal, ai_recommendation, workout_image_url, meal_image_url):\n",
    "    \"\"\"Display workout, meal plans, AI recommendations, and generated images.\"\"\"\n",
    "    display(Markdown(f\"## Workout Plan\\n{workout}\"))\n",
    "    if \"http\" in workout_image_url:\n",
    "        display(Markdown(f\"![Workout Image]({workout_image_url})\"))\n",
    "    else:\n",
    "        display(Markdown(workout_image_url))  # Display error if any\n",
    "\n",
    "    display(Markdown(f\"## Meal Plan\\n{meal}\"))\n",
    "    if \"http\" in meal_image_url:\n",
    "        display(Markdown(f\"![Meal Image]({meal_image_url})\"))\n",
    "    else:\n",
    "        display(Markdown(meal_image_url))  # Display error if any\n",
    "\n",
    "    display(Markdown(f\"## AI Recommendation\\n{ai_recommendation}\"))"
   ]
  },
  {
   "cell_type": "code",
   "execution_count": null,
   "metadata": {},
   "outputs": [],
   "source": [
    "# Define or assign a value to 'recommendation' before calling the function\n",
    "recommendation = \"Consider adding a light snack like fruits or nuts between meals to keep your energy levels up.\" # Example recommendation\n",
    "\n",
    "# Define or assign a value to 'recommendation' before calling the function\n",
    "recommendation = \"Consider adding a light snack like fruits or nuts between meals to keep your energy levels up.\" # Example recommendation\n",
    "\n",
    "# Use the updated function\n",
    "display_results_with_images(workout_plan, meal_plan, recommendation, workout_image_url, meal_image_url)"
   ]
  },
  {
   "cell_type": "raw",
   "metadata": {},
   "source": [
    "Workout Plan\n",
    "30 minutes of jogging followed by 10 push-ups and 10 sit-ups\n",
    "\n",
    "![Workout Image](Error generating workout image:\n",
    "\n",
    "You tried to access openai.Image, but this is no longer supported in openai>=1.0.0 - see the README at https://github.com/openai/openai-python for the API.\n",
    "\n",
    "You can run openai migrate to automatically upgrade your codebase to use the 1.0.0 interface.\n",
    "\n",
    "Alternatively, you can pin your installation to the old version, e.g. pip install openai==0.28\n",
    "\n",
    "A detailed migration guide is available here: https://github.com/openai/openai-python/discussions/742 )\n",
    "\n",
    "Meal Plan\n",
    "Grilled chicken salad with a side of brown rice\n",
    "\n",
    "![Meal Image](Error generating meal image:\n",
    "\n",
    "You tried to access openai.Image, but this is no longer supported in openai>=1.0.0 - see the README at https://github.com/openai/openai-python for the API.\n",
    "\n",
    "You can run openai migrate to automatically upgrade your codebase to use the 1.0.0 interface.\n",
    "\n",
    "Alternatively, you can pin your installation to the old version, e.g. pip install openai==0.28\n",
    "\n",
    "A detailed migration guide is available here: https://github.com/openai/openai-python/discussions/742 )\n",
    "\n",
    "AI Recommendation\n",
    "Consider adding a light snack like fruits or nuts between meals to keep your energy levels up."
   ]
  },
  {
   "cell_type": "code",
   "execution_count": null,
   "metadata": {},
   "outputs": [],
   "source": []
  }
 ],
 "metadata": {
  "kernelspec": {
   "display_name": "Python 3 (ipykernel)",
   "language": "python",
   "name": "python3"
  },
  "language_info": {
   "codemirror_mode": {
    "name": "ipython",
    "version": 3
   },
   "file_extension": ".py",
   "mimetype": "text/x-python",
   "name": "python",
   "nbconvert_exporter": "python",
   "pygments_lexer": "ipython3",
   "version": "3.12.2"
  }
 },
 "nbformat": 4,
 "nbformat_minor": 4
}
