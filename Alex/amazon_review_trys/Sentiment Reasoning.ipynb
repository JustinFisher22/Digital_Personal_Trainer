{
 "cells": [
  {
   "cell_type": "code",
   "execution_count": null,
   "id": "e746fb5a",
   "metadata": {},
   "outputs": [],
   "source": [
    "pip install textblob"
   ]
  },
  {
   "cell_type": "code",
   "execution_count": null,
   "id": "99b37955-269b-479c-8edf-a9784970297e",
   "metadata": {},
   "outputs": [],
   "source": [
    "pip install wordcloud"
   ]
  },
  {
   "cell_type": "code",
   "execution_count": null,
   "id": "01ec7cb7-735c-4c40-b583-ab13c91f6487",
   "metadata": {},
   "outputs": [],
   "source": [
    "pip install nltk"
   ]
  },
  {
   "cell_type": "code",
   "execution_count": null,
   "id": "0bacf9d1",
   "metadata": {},
   "outputs": [],
   "source": [
    "from warnings import filterwarnings\n",
    "import matplotlib.pyplot as plt\n",
    "import numpy as np\n",
    "import pandas as pd\n",
    "from PIL import Image\n",
    "from nltk.corpus import stopwords\n",
    "from nltk.sentiment import SentimentIntensityAnalyzer\n",
    "from sklearn.ensemble import RandomForestClassifier\n",
    "from sklearn.linear_model import LogisticRegression\n",
    "from sklearn.model_selection import cross_val_score, GridSearchCV, cross_validate\n",
    "from sklearn.preprocessing import LabelEncoder\n",
    "from textblob import Word, TextBlob\n",
    "from wordcloud import WordCloud\n",
    "\n",
    "\n",
    "filterwarnings('ignore')\n",
    "pd.set_option('display.max_columns', None)\n",
    "pd.set_option('display.width', 200)\n",
    "pd.set_option('display.float_format', lambda x: '%.2f' % x)\n"
   ]
  },
  {
   "cell_type": "code",
   "execution_count": null,
   "id": "2549a597-c58d-4835-8410-68e20368fad9",
   "metadata": {},
   "outputs": [],
   "source": [
    "df = pd.read_csv(\"../input/amazon-reviews/amazon_reviews.csv\", sep=\",\")\n",
    "df.head()"
   ]
  },
  {
   "cell_type": "code",
   "execution_count": null,
   "id": "4c4212c2-080c-4e72-9c9e-c50fe8dc087d",
   "metadata": {},
   "outputs": [],
   "source": [
    "df.info()"
   ]
  },
  {
   "cell_type": "raw",
   "id": "02b2e407-7757-4c43-9578-5171bdd4e82b",
   "metadata": {},
   "source": [
    "1. Text Preprocessing"
   ]
  },
  {
   "cell_type": "code",
   "execution_count": null,
   "id": "6c3d3268-e41f-49ce-ae80-50d8dddeeca0",
   "metadata": {},
   "outputs": [],
   "source": [
    "# Normalizing Case Folding\n",
    "df['reviewText'] = df['reviewText'].str.lower()\n",
    "\n",
    "# Punctuations\n",
    "df['reviewText'] = df['reviewText'].str.replace('[^\\w\\s]', '')\n",
    "\n",
    "# Numbers\n",
    "df['reviewText'] = df['reviewText'].str.replace('\\d', '')\n"
   ]
  },
  {
   "cell_type": "code",
   "execution_count": null,
   "id": "70568368-9d0f-4008-9cd3-534f69ea6173",
   "metadata": {},
   "outputs": [],
   "source": [
    "# Stopwords\n",
    "\n",
    "# nltk.download('stopwords')\n",
    "sw = stopwords.words('english')\n",
    "df['reviewText'] = df['reviewText'].apply(lambda x: \" \".join(x for x in str(x).split() if x not in sw))"
   ]
  },
  {
   "cell_type": "code",
   "execution_count": null,
   "id": "58067e4c-347f-499a-95b2-8e063a95c594",
   "metadata": {},
   "outputs": [],
   "source": [
    "# Rarewords\n",
    "\n",
    "drops = pd.Series(' '.join(df['reviewText']).split()).value_counts()[-1000:]\n",
    "df['reviewText'] = df['reviewText'].apply(lambda x: \" \".join(x for x in x.split() if x not in drops))"
   ]
  },
  {
   "cell_type": "code",
   "execution_count": null,
   "id": "45d8080f-ccd1-4c68-80a4-fb7ceaf65eac",
   "metadata": {},
   "outputs": [],
   "source": [
    "# Tokenization\n",
    "\n",
    "# nltk.download(\"punkt\")\n",
    "df[\"reviewText\"].apply(lambda x: TextBlob(x).words).head()"
   ]
  },
  {
   "cell_type": "code",
   "execution_count": null,
   "id": "ec41cfdc-c94f-425c-bbbd-c3edfa367776",
   "metadata": {},
   "outputs": [],
   "source": [
    "# Lemmatization\n",
    "\n",
    "# Kelimeleri köklerine ayırma işlemidir.\n",
    "# nltk.download('wordnet')\n",
    "df['reviewText'] = df['reviewText'].apply(lambda x: \" \".join([Word(word).lemmatize() for word in x.split()]))\n",
    "\n",
    "df['reviewText'].head(10)"
   ]
  },
  {
   "cell_type": "raw",
   "id": "2e92ee96-d8fb-4201-9d9d-732c324a5511",
   "metadata": {},
   "source": [
    "2. Text Visualization"
   ]
  },
  {
   "cell_type": "code",
   "execution_count": null,
   "id": "61715e8e-a8f2-46c2-ba90-18cc56291cf1",
   "metadata": {},
   "outputs": [],
   "source": [
    "# Terim Frekanslarının Hesaplanması\n",
    "\n",
    "tf = df[\"reviewText\"].apply(lambda x: pd.value_counts(x.split(\" \"))).sum(axis=0).reset_index()\n",
    "\n",
    "tf.columns = [\"words\", \"tf\"]\n",
    "tf.head()"
   ]
  },
  {
   "cell_type": "code",
   "execution_count": null,
   "id": "f1433383-c11e-4c08-ba9e-4125719c89f5",
   "metadata": {},
   "outputs": [],
   "source": [
    "tf.shape"
   ]
  },
  {
   "cell_type": "code",
   "execution_count": null,
   "id": "2b184d1d-a87a-4838-a3f0-d079b0b7d357",
   "metadata": {},
   "outputs": [],
   "source": [
    "tf[\"words\"].nunique()"
   ]
  },
  {
   "cell_type": "code",
   "execution_count": null,
   "id": "1acecf91-f68b-4d16-83fc-86b0aece60d7",
   "metadata": {},
   "outputs": [],
   "source": [
    "tf[\"tf\"].describe([0.05, 0.10, 0.25, 0.50, 0.75, 0.80, 0.90, 0.95, 0.99]).T"
   ]
  },
  {
   "cell_type": "code",
   "execution_count": null,
   "id": "73555229-cb41-42b1-8c49-cc3a11dfa60d",
   "metadata": {},
   "outputs": [],
   "source": [
    "# Barplot\n",
    "\n",
    "tf[tf[\"tf\"] > 500].plot.bar(x=\"words\", y=\"tf\")\n",
    "plt.show()"
   ]
  },
  {
   "cell_type": "code",
   "execution_count": null,
   "id": "2f26a7de-266e-4129-acfc-460b22d78e43",
   "metadata": {},
   "outputs": [],
   "source": [
    "# Wordcloud\n",
    "\n",
    "text = \" \".join(i for i in df.reviewText)\n",
    "wordcloud = WordCloud().generate(text)\n",
    "plt.imshow(wordcloud, interpolation=\"bilinear\")\n",
    "plt.axis(\"off\")\n",
    "plt.show()\n"
   ]
  },
  {
   "cell_type": "code",
   "execution_count": null,
   "id": "f20b335c-aff4-4af2-89f2-4bdbe10b5056",
   "metadata": {},
   "outputs": [],
   "source": [
    "# daha açık renkli bir grafik\n",
    "wordcloud = WordCloud(max_font_size=50,\n",
    "                      max_words=100,\n",
    "                      background_color=\"white\").generate(text)\n",
    "plt.figure()\n",
    "plt.imshow(wordcloud, interpolation=\"bilinear\")\n",
    "plt.axis(\"off\")\n",
    "plt.show()\n",
    "\n",
    "wordcloud.to_file(\"wordcloud.png\")"
   ]
  },
  {
   "cell_type": "raw",
   "id": "219febca-5509-443c-926e-f81979f6272b",
   "metadata": {},
   "source": [
    "3. Sentiment Analysis"
   ]
  },
  {
   "cell_type": "code",
   "execution_count": null,
   "id": "308a6c2c-8110-4556-8d63-42d2a96f34bd",
   "metadata": {},
   "outputs": [],
   "source": [
    "# NLTK already has a built-in, pretrained sentiment analyzer\n",
    "# called VADER (Valence Aware Dictionary and sEntiment Reasoner).\n",
    "\n",
    "df.head()"
   ]
  },
  {
   "cell_type": "code",
   "execution_count": null,
   "id": "ee5974fc-0601-46e7-8a0a-7b0e99e122a8",
   "metadata": {},
   "outputs": [],
   "source": [
    "# nltk.download('vader_lexicon')\n",
    "sia = SentimentIntensityAnalyzer()"
   ]
  },
  {
   "cell_type": "code",
   "execution_count": null,
   "id": "44a66d71-9e4e-461d-a195-44ebc21c6b4c",
   "metadata": {},
   "outputs": [],
   "source": [
    "sia.polarity_scores(\"The film was awesome\")"
   ]
  },
  {
   "cell_type": "code",
   "execution_count": null,
   "id": "730f2635-ad41-4797-8f72-fb3b0381b880",
   "metadata": {},
   "outputs": [],
   "source": [
    "sia.polarity_scores(\"I liked this music but it is not good as the other one\")"
   ]
  },
  {
   "cell_type": "code",
   "execution_count": null,
   "id": "86b67137-73da-43d7-923e-dc1ca44b2c3e",
   "metadata": {},
   "outputs": [],
   "source": [
    "# mesela review'ları büyültmek istersek:\n",
    "df[\"reviewText\"].apply(lambda x: x.upper())"
   ]
  },
  {
   "cell_type": "code",
   "execution_count": null,
   "id": "3ae9fc47-78ff-4a23-b6ff-68e861e70f05",
   "metadata": {},
   "outputs": [],
   "source": [
    "# şimdi skorları hesaplayalım mesela 10 tanesi için\n",
    "df[\"reviewText\"][0:10].apply(lambda x: sia.polarity_scores(x))"
   ]
  },
  {
   "cell_type": "code",
   "execution_count": null,
   "id": "c70bb7e9-bb96-4d68-9d31-c95a49b9b2b6",
   "metadata": {},
   "outputs": [],
   "source": [
    "# peki bu sözlük içerisinden sadece bir bileşeni seçmek istersek ne yapacağız?\n",
    "df[\"reviewText\"][0:10].apply(lambda x: sia.polarity_scores(x)[\"compound\"])"
   ]
  },
  {
   "cell_type": "code",
   "execution_count": null,
   "id": "dd207af3-de54-44bf-9689-d60542eda9e8",
   "metadata": {},
   "outputs": [],
   "source": [
    "# işlemi kalıcı olarak yapalım:\n",
    "df[\"polarity_score\"] = df[\"reviewText\"].apply(lambda x: sia.polarity_scores(x)[\"compound\"])\n",
    "df.head()"
   ]
  },
  {
   "cell_type": "raw",
   "id": "b2d48c2b-03c9-45a4-95ab-459a1ed191ca",
   "metadata": {},
   "source": [
    "4. Sentiment Modeling"
   ]
  },
  {
   "cell_type": "code",
   "execution_count": null,
   "id": "20c0d3be-eec3-486a-a197-00e5368c96d4",
   "metadata": {},
   "outputs": [],
   "source": [
    "# Feature Engineering\n",
    "\n",
    "# Target'ın Oluşturulması\n",
    "df[\"reviewText\"][0:10].apply(lambda x: \"pos\" if sia.polarity_scores(x)[\"compound\"] > 0 else \"neg\")"
   ]
  },
  {
   "cell_type": "code",
   "execution_count": null,
   "id": "2c7e5fe9-6420-46b3-9b4d-d76b8ac5724b",
   "metadata": {},
   "outputs": [],
   "source": [
    "# şimdi tüm veri için aynı işlemi yapıp veri setinin içine sentiment_label adında bir değişken ekleyelim:\n",
    "df[\"sentiment_label\"] = df[\"reviewText\"].apply(lambda x: \"pos\" if sia.polarity_scores(x)[\"compound\"] > 0 else \"neg\")\n",
    "df.head(20)"
   ]
  },
  {
   "cell_type": "code",
   "execution_count": null,
   "id": "41ed92b0-5888-450d-a6aa-0121ea0c980e",
   "metadata": {},
   "outputs": [],
   "source": [
    "# dengesiz veri problemimiz var mı bir sınıf dağılımına bakalım\n",
    "df[\"sentiment_label\"].value_counts()"
   ]
  },
  {
   "cell_type": "code",
   "execution_count": null,
   "id": "0d47a4a4-4515-430f-927d-027d3bd2fa6f",
   "metadata": {},
   "outputs": [],
   "source": [
    "# bir soru daha merak ettiğim şey şu verilen puanlar açısından neg-pos labelleri arasında fark var mı?\n",
    "df.groupby(\"sentiment_label\")[\"overall\"].mean()"
   ]
  },
  {
   "cell_type": "code",
   "execution_count": null,
   "id": "1b2305aa-f146-4d7a-a276-25fe615ad47a",
   "metadata": {},
   "outputs": [],
   "source": [
    "# target'ın encode edilmesi\n",
    "df[\"sentiment_label\"] = LabelEncoder().fit_transform(df[\"sentiment_label\"])\n",
    "\n",
    "X = df[\"reviewText\"]\n",
    "y = df[\"sentiment_label\"]"
   ]
  },
  {
   "cell_type": "code",
   "execution_count": null,
   "id": "5398ef91-6cb0-48d9-8065-529dd040a154",
   "metadata": {},
   "outputs": [],
   "source": [
    "# ngram\n",
    "a = \"\"\"Bu örneği anlaşılabilmesi için daha uzun bir metin üzerinden göstereceğim.\n",
    "N-gram'lar birlikte kullanılan kelimelerin kombinasyolarını gösterir ve feature üretmek için kullanılır\"\"\"\n",
    "\n",
    "TextBlob(a).ngrams(3)"
   ]
  },
  {
   "cell_type": "code",
   "execution_count": null,
   "id": "e0069aec-ad63-455b-b2b6-ce48d7122929",
   "metadata": {},
   "outputs": [],
   "source": [
    "# Count Vectors\n",
    "\n",
    "from sklearn.feature_extraction.text import CountVectorizer\n",
    "\n",
    "corpus = ['This is the first document.',\n",
    "          'This document is the second document.',\n",
    "          'And this is the third one.',\n",
    "          'Is this the first document?']"
   ]
  },
  {
   "cell_type": "code",
   "execution_count": null,
   "id": "e2edfd56-c53d-43a0-8df4-c7b24fa73b17",
   "metadata": {},
   "outputs": [],
   "source": [
    "# word frekans\n",
    "vectorizer = CountVectorizer()\n",
    "X_c = vectorizer.fit_transform(corpus)\n",
    "vectorizer.get_feature_names()\n",
    "X_c.toarray()"
   ]
  },
  {
   "cell_type": "code",
   "execution_count": null,
   "id": "bc390096-4b78-4c83-9683-12111848e4ee",
   "metadata": {},
   "outputs": [],
   "source": [
    "# n-gram frekans\n",
    "vectorizer2 = CountVectorizer(analyzer='word', ngram_range=(2, 2))\n",
    "X_n = vectorizer2.fit_transform(corpus)\n",
    "vectorizer2.get_feature_names()\n",
    "X_n.toarray()"
   ]
  },
  {
   "cell_type": "code",
   "execution_count": null,
   "id": "5ae9fd83-33c6-4a05-a424-fd91456549f0",
   "metadata": {},
   "outputs": [],
   "source": [
    "# Veriye uygulanması:\n",
    "vectorizer = CountVectorizer()\n",
    "X_count = vectorizer.fit_transform(X)\n",
    "\n",
    "vectorizer.get_feature_names()[10:15]\n",
    "X_count.toarray()[10:15]"
   ]
  },
  {
   "cell_type": "code",
   "execution_count": null,
   "id": "06c59079-50c9-408d-b677-32428d89a38b",
   "metadata": {},
   "outputs": [],
   "source": [
    "# word tf-idf\n",
    "from sklearn.feature_extraction.text import TfidfVectorizer\n",
    "vectorizer = TfidfVectorizer(analyzer='word')\n",
    "X_w = vectorizer.fit_transform(corpus)\n",
    "vectorizer.get_feature_names()\n",
    "X_w.toarray()"
   ]
  },
  {
   "cell_type": "code",
   "execution_count": null,
   "id": "2fd93759-34b0-4d6d-a476-32b6eaac2036",
   "metadata": {},
   "outputs": [],
   "source": [
    "# n-gram tf-idf\n",
    "from sklearn.feature_extraction.text import TfidfVectorizer\n",
    "vectorizer = TfidfVectorizer(ngram_range=(2, 3))\n",
    "X_n = vectorizer.fit_transform(corpus)\n",
    "vectorizer.get_feature_names()\n",
    "X_n.toarray()\n"
   ]
  },
  {
   "cell_type": "code",
   "execution_count": null,
   "id": "42cfcaaf-bb26-4edd-8258-8536398f5683",
   "metadata": {},
   "outputs": [],
   "source": [
    "# Veriye uygulanması:\n",
    "tf_idf_word_vectorizer = TfidfVectorizer()\n",
    "X_tf_idf_word = tf_idf_word_vectorizer.fit_transform(X)\n"
   ]
  },
  {
   "cell_type": "raw",
   "id": "b5050bdc-7b72-4f71-9319-d99e36f6204f",
   "metadata": {},
   "source": [
    "5. Modeling"
   ]
  },
  {
   "cell_type": "code",
   "execution_count": null,
   "id": "0ce03087-eb0d-43d2-856a-d2b7438a26b6",
   "metadata": {},
   "outputs": [],
   "source": [
    "# Logistic Regression\n",
    "\n",
    "log_model = LogisticRegression().fit(X_tf_idf_word, y)\n",
    "\n",
    "cross_val_score(log_model,\n",
    "                X_tf_idf_word,\n",
    "                y, scoring=\"accuracy\",\n",
    "                cv=5).mean()\n",
    "\n",
    "yeni_yorum = pd.Series(\"this product is great\")\n",
    "yeni_yorum = pd.Series(\"look at that shit very bad\")\n",
    "yeni_yorum = pd.Series(\"it was good but I am sure that it fits me\")\n",
    "\n",
    "yeni_yorum = CountVectorizer().fit(X).transform(yeni_yorum)\n",
    "log_model.predict(yeni_yorum)"
   ]
  },
  {
   "cell_type": "code",
   "execution_count": null,
   "id": "1c8796d2-733c-4f27-935b-cd39774b3349",
   "metadata": {},
   "outputs": [],
   "source": [
    "# orjinal yorumlardan modele sorabilir miyiz?\n",
    "random_review = pd.Series(df[\"reviewText\"].sample(1).values)\n",
    "random_review"
   ]
  },
  {
   "cell_type": "code",
   "execution_count": null,
   "id": "7ba358e5-1e7a-44db-88d1-31094cfbd6dd",
   "metadata": {},
   "outputs": [],
   "source": [
    "yeni_yorum = CountVectorizer().fit(X).transform(random_review)\n",
    "log_model.predict(yeni_yorum)"
   ]
  },
  {
   "cell_type": "code",
   "execution_count": null,
   "id": "8b7666c8-37a7-48c0-9ea9-70babf46960c",
   "metadata": {},
   "outputs": [],
   "source": [
    "Random Forests"
   ]
  },
  {
   "cell_type": "code",
   "execution_count": null,
   "id": "c5ac96e1-f6e5-40f5-8603-eb21f01a3019",
   "metadata": {},
   "outputs": [],
   "source": [
    "# Count Vectors\n",
    "rf_model = RandomForestClassifier().fit(X_count, y)\n",
    "cross_val_score(rf_model, X_count, y, cv=5, n_jobs=-1).mean()"
   ]
  },
  {
   "cell_type": "code",
   "execution_count": null,
   "id": "6b959524-b4e9-4651-ad29-b264c0d7bc3a",
   "metadata": {},
   "outputs": [],
   "source": [
    "# TF-IDF Word-Level\n",
    "rf_model = RandomForestClassifier().fit(X_tf_idf_word, y)\n",
    "cross_val_score(rf_model, X_tf_idf_word, y, cv=5, n_jobs=-1).mean()"
   ]
  },
  {
   "cell_type": "code",
   "execution_count": null,
   "id": "c848ad48-c993-4030-95f3-737e629fa303",
   "metadata": {},
   "outputs": [],
   "source": [
    "# TF-IDF N-GRAM\n",
    "#rf_model = RandomForestClassifier().fit(X_tf_idf_ngram, y)\n",
    "#cross_val_score(rf_model, X_tf_idf_ngram, y, cv=5, n_jobs=-1"
   ]
  },
  {
   "cell_type": "code",
   "execution_count": null,
   "id": "de7a78c5-68bd-409c-b138-b9a219712c7f",
   "metadata": {},
   "outputs": [],
   "source": [
    "# Hiperparametre Optimizasyonu\n",
    "\n",
    "rf_model = RandomForestClassifier(random_state=17)\n",
    "\n",
    "rf_params = {\"max_depth\": [5, 8, None],\n",
    "             \"max_features\": [5, 7, \"auto\"],\n",
    "             \"min_samples_split\": [2, 5, 8, 20],\n",
    "             \"n_estimators\": [100, 200, 500]}\n",
    "\n",
    "rf_best_grid = GridSearchCV(rf_model,\n",
    "                            rf_params,\n",
    "                            cv=5,\n",
    "                            n_jobs=-1,\n",
    "                            verbose=True).fit(X_count, y)\n",
    "\n",
    "rf_best_grid.best_params_\n",
    "\n",
    "rf_final = rf_model.set_params(**rf_best_grid.best_params_, random_state=17).fit(X_count, y)\n",
    "\n",
    "cv_results = cross_validate(rf_final, X_count, y, cv=3, scoring=[\"accuracy\", \"f1\", \"roc_auc\"])\n"
   ]
  },
  {
   "cell_type": "code",
   "execution_count": null,
   "id": "67174cd8-3098-4379-91da-c8f7c25ddbd4",
   "metadata": {},
   "outputs": [],
   "source": [
    "rf_best_grid.best_params_"
   ]
  },
  {
   "cell_type": "code",
   "execution_count": null,
   "id": "15368f60-5edc-4325-bdaf-e5d391d2696c",
   "metadata": {},
   "outputs": [],
   "source": [
    "rf_final = rf_model.set_params(**rf_best_grid.best_params_, random_state=17).fit(X_count, y)"
   ]
  },
  {
   "cell_type": "code",
   "execution_count": null,
   "id": "cc442a19-64dc-47b8-99f4-9737481a515c",
   "metadata": {},
   "outputs": [],
   "source": [
    "cv_results = cross_validate(rf_final, X_count, y, cv=3, scoring=[\"accuracy\", \"f1\", \"roc_auc\"])"
   ]
  },
  {
   "cell_type": "code",
   "execution_count": null,
   "id": "d56a167b-ca1b-4815-aa86-1ba9f8113977",
   "metadata": {},
   "outputs": [],
   "source": []
  },
  {
   "cell_type": "code",
   "execution_count": null,
   "id": "2edf98f5-1b10-4785-a26c-f47796b1f2a6",
   "metadata": {},
   "outputs": [],
   "source": []
  },
  {
   "cell_type": "code",
   "execution_count": null,
   "id": "4347346c-510c-402b-baf7-92422735dac7",
   "metadata": {},
   "outputs": [],
   "source": []
  },
  {
   "cell_type": "code",
   "execution_count": null,
   "id": "9edb71b7-2118-4bd2-85bd-d4b1ac5dc556",
   "metadata": {},
   "outputs": [],
   "source": []
  },
  {
   "cell_type": "code",
   "execution_count": null,
   "id": "7e8972b8-f12d-4106-8324-4bd62430bfb5",
   "metadata": {},
   "outputs": [],
   "source": []
  }
 ],
 "metadata": {
  "kernelspec": {
   "display_name": "Python 3 (ipykernel)",
   "language": "python",
   "name": "python3"
  },
  "language_info": {
   "codemirror_mode": {
    "name": "ipython",
    "version": 3
   },
   "file_extension": ".py",
   "mimetype": "text/x-python",
   "name": "python",
   "nbconvert_exporter": "python",
   "pygments_lexer": "ipython3",
   "version": "3.12.2"
  }
 },
 "nbformat": 4,
 "nbformat_minor": 5
}
