{
  "cells": [
    {
      "cell_type": "raw",
      "metadata": {
        "id": "pbk3VmgEo3nU"
      },
      "source": [
        "Libraries and Dependencies"
      ]
    },
    {
      "cell_type": "code",
      "source": [
        "!pip install python-dotenv"
      ],
      "metadata": {
        "colab": {
          "base_uri": "https://localhost:8080/"
        },
        "id": "spK4l9gJpCsy",
        "outputId": "ed0a7d02-6a87-4e15-851c-e673a327ec12"
      },
      "execution_count": 45,
      "outputs": [
        {
          "output_type": "stream",
          "name": "stdout",
          "text": [
            "Requirement already satisfied: python-dotenv in /usr/local/lib/python3.10/dist-packages (1.0.1)\n"
          ]
        }
      ]
    },
    {
      "cell_type": "code",
      "execution_count": 46,
      "metadata": {
        "id": "hgwy8KbknAky"
      },
      "outputs": [],
      "source": [
        "# Importing libraries\n",
        "from dotenv import load_dotenv\n",
        "import os\n",
        "from langchain.schema import HumanMessage, SystemMessage\n",
        "from IPython.display import display, Markdown\n",
        "import google.generativeai as genai\n",
        "from PIL import Image\n",
        "import openai\n",
        "from sklearn.model_selection import train_test_split\n",
        "from sklearn.ensemble import RandomForestClassifier\n",
        "from sklearn.metrics import classification_report\n",
        "import pandas as pd\n",
        "import requests\n",
        "from io import BytesIO"
      ]
    },
    {
      "cell_type": "code",
      "source": [
        "from google.colab import drive\n",
        "drive.mount('/content/drive')"
      ],
      "metadata": {
        "colab": {
          "base_uri": "https://localhost:8080/"
        },
        "id": "9NuqFKw3sshp",
        "outputId": "e83b5cdc-e14d-462c-bcc7-c44b8bd5035c"
      },
      "execution_count": 47,
      "outputs": [
        {
          "output_type": "stream",
          "name": "stdout",
          "text": [
            "Drive already mounted at /content/drive; to attempt to forcibly remount, call drive.mount(\"/content/drive\", force_remount=True).\n"
          ]
        }
      ]
    },
    {
      "cell_type": "code",
      "source": [
        "from dotenv import load_dotenv\n",
        "import os"
      ],
      "metadata": {
        "id": "XuJRdIOkvRd7"
      },
      "execution_count": 48,
      "outputs": []
    },
    {
      "cell_type": "raw",
      "metadata": {
        "id": "jSlvKnquo3nV"
      },
      "source": [
        "Load Environment Variables"
      ]
    },
    {
      "cell_type": "code",
      "execution_count": 49,
      "metadata": {
        "id": "Ad0stIFzdZNO"
      },
      "outputs": [],
      "source": [
        "# Load the environment variables from the .env file\n",
        "load_dotenv(\"/content/drive/My Drive/alsapikeys.env\")\n",
        "\n",
        "# Get the Gemini API Key and Open API Key from the environment variables\n",
        "GEMINI_API_KEY = os.getenv(\"GEMINI_API_KEY\")\n",
        "OPENAI_API_KEY = os.getenv(\"OPENAI_API_KEY\")\n",
        "\n",
        "# Configure APIs\n",
        "genai.configure(api_key=GEMINI_API_KEY)\n",
        "openai.api_key = OPENAI_API_KEY"
      ]
    },
    {
      "cell_type": "code",
      "source": [
        "# Dataset Preprocessing\n",
        "# (No code to correct, just a comment)"
      ],
      "metadata": {
        "id": "9WB3ePdxq0rC"
      },
      "execution_count": 50,
      "outputs": []
    },
    {
      "cell_type": "code",
      "execution_count": 50,
      "metadata": {
        "id": "xlS15kNVee3S"
      },
      "outputs": [],
      "source": []
    },
    {
      "cell_type": "code",
      "execution_count": 51,
      "metadata": {
        "colab": {
          "base_uri": "https://localhost:8080/"
        },
        "id": "5eB3Ta9vo3nW",
        "outputId": "ce0006af-972a-4e7e-f609-d770d4f272f2"
      },
      "outputs": [
        {
          "output_type": "stream",
          "name": "stderr",
          "text": [
            "/usr/local/lib/python3.10/dist-packages/sklearn/metrics/_classification.py:1565: UndefinedMetricWarning: Precision is ill-defined and being set to 0.0 in labels with no predicted samples. Use `zero_division` parameter to control this behavior.\n",
            "  _warn_prf(average, modifier, f\"{metric.capitalize()} is\", len(result))\n",
            "/usr/local/lib/python3.10/dist-packages/sklearn/metrics/_classification.py:1565: UndefinedMetricWarning: Precision is ill-defined and being set to 0.0 in labels with no predicted samples. Use `zero_division` parameter to control this behavior.\n",
            "  _warn_prf(average, modifier, f\"{metric.capitalize()} is\", len(result))\n",
            "/usr/local/lib/python3.10/dist-packages/sklearn/metrics/_classification.py:1565: UndefinedMetricWarning: Precision is ill-defined and being set to 0.0 in labels with no predicted samples. Use `zero_division` parameter to control this behavior.\n",
            "  _warn_prf(average, modifier, f\"{metric.capitalize()} is\", len(result))\n"
          ]
        }
      ],
      "source": [
        "# Load and preprocess dataset\n",
        "df = pd.read_csv(\"/content/drive/My Drive/fitness_data.csv\")\n",
        "\n",
        "# Filter relevant columns and clean data\n",
        "df_cleaned = df[['Age', 'Gender', 'Resting_BPM']].dropna()\n",
        "df_cleaned.to_csv(\"cleaned_fitness_data.csv\", index=False)\n",
        "\n",
        "# Prepare data for ML model\n",
        "X = df_cleaned[['Age']]\n",
        "y = df_cleaned['Resting_BPM']\n",
        "\n",
        "# Split data into training and testing sets\n",
        "X_train, X_test, y_train, y_test = train_test_split(X, y, test_size=0.2, random_state=42)\n",
        "\n",
        "# Train a Random Forest model\n",
        "model = RandomForestClassifier(n_estimators=100, max_depth=10, random_state=42)\n",
        "model.fit(X_train, y_train)\n",
        "\n",
        "# Evaluate the model\n",
        "y_pred = model.predict(X_test)\n",
        "performance_metrics = classification_report(y_test, y_pred, output_dict=True)"
      ]
    },
    {
      "cell_type": "code",
      "execution_count": 51,
      "metadata": {
        "id": "NLZ2eJerdZzz"
      },
      "outputs": [],
      "source": []
    },
    {
      "cell_type": "code",
      "execution_count": 52,
      "metadata": {
        "id": "AYqbVqcOdaCY"
      },
      "outputs": [],
      "source": [
        "def generate_personal_plan(preferences):\n",
        "    \"\"\"Use Google Gemini to generate a personalized plan.\"\"\"\n",
        "    prompt = f\"Create a workout and meal plan for someone who wants to {preferences['fitness_goal']}.\"\n",
        "    if preferences.get(\"celebrity_preference\"):\n",
        "        prompt += f\" Include workouts inspired by {preferences['celebrity_preference']}.\"\n",
        "    try:\n",
        "        response = genai.generate_content(prompt)\n",
        "        return response.text\n",
        "    except Exception as e:\n",
        "        # Return a safe default prompt instead of the error message\n",
        "        return f\"Generate a visual representation of a {preferences['fitness_goal']} plan.\""
      ]
    },
    {
      "cell_type": "code",
      "execution_count": null,
      "metadata": {
        "id": "LRVYt48zdaQL"
      },
      "outputs": [],
      "source": []
    },
    {
      "cell_type": "code",
      "execution_count": 53,
      "metadata": {
        "id": "gMupY5DTo3nY"
      },
      "outputs": [],
      "source": [
        "def generate_image(prompt, model=\"dall-e-3\", size=\"1024x1024\"):\n",
        "    \"\"\"Generate an image using OpenAI's DALL-E API.\"\"\"\n",
        "    # The openai.Image.create method has been removed.\n",
        "    # Use openai.images.generate instead.\n",
        "    response = openai.images.generate(\n",
        "        prompt=prompt,\n",
        "        model=model,\n",
        "        size=size,\n",
        "        n=1,\n",
        "        response_format=\"url\"\n",
        "    )\n",
        "    return response.data[0].url # Access data through the data attribute."
      ]
    },
    {
      "cell_type": "code",
      "execution_count": null,
      "metadata": {
        "id": "HHWCpqvto3nY"
      },
      "outputs": [],
      "source": []
    },
    {
      "cell_type": "code",
      "execution_count": 54,
      "metadata": {
        "id": "Aik5UO25o3nY"
      },
      "outputs": [],
      "source": [
        "def get_user_preferences():\n",
        "    \"\"\"Collect user preferences.\"\"\"\n",
        "    fitness_goal = input(\"Enter your fitness goal (e.g., 'build muscle', 'lose weight'): \")\n",
        "    celebrity_preference = input(\"Enter a celebrity's name for workout inspiration (or leave blank): \")\n",
        "    return {\"fitness_goal\": fitness_goal, \"celebrity_preference\": celebrity_preference}\n",
        "\n",
        "def fetch_workout_data(goal, celebrity=None):\n",
        "    \"\"\"Fetch workout plan based on goal and celebrity preference.\"\"\"\n",
        "    prompt = f\"Create a workout plan for someone whose goal is to {goal}.\"\n",
        "    if celebrity:\n",
        "        prompt += f\" Include workouts inspired by {celebrity}.\"\n",
        "    return generate_personal_plan({\"fitness_goal\": goal, \"celebrity_preference\": celebrity})\n",
        "\n",
        "def fetch_meal_plan(goal):\n",
        "    \"\"\"Fetch meal plan based on fitness goal.\"\"\"\n",
        "    return generate_personal_plan({\"fitness_goal\": goal})\n",
        "\n",
        "def display_results_with_images(workout, meal, recommendation):\n",
        "    \"\"\"Display workout, meal plans, AI recommendations, and visuals.\"\"\"\n",
        "    workout_image_url = generate_image(workout)\n",
        "    meal_image_url = generate_image(meal)\n",
        "\n",
        "    display(Markdown(f\"## Workout Plan\\n{workout}\"))\n",
        "    display(Markdown(f\"![Workout Image]({workout_image_url})\"))\n",
        "    display(Markdown(f\"## Meal Plan\\n{meal}\"))\n",
        "    display(Markdown(f\"![Meal Image]({meal_image_url})\"))\n",
        "    display(Markdown(f\"## AI Recommendation\\n{recommendation}\"))\n"
      ]
    },
    {
      "cell_type": "code",
      "execution_count": 55,
      "metadata": {
        "colab": {
          "base_uri": "https://localhost:8080/"
        },
        "id": "e_jwW5YTo3nY",
        "outputId": "0407b170-c58c-4005-e6ea-585133697feb"
      },
      "outputs": [
        {
          "output_type": "stream",
          "name": "stdout",
          "text": [
            "Requirement already satisfied: openai in /usr/local/lib/python3.10/dist-packages (1.58.1)\n",
            "Requirement already satisfied: anyio<5,>=3.5.0 in /usr/local/lib/python3.10/dist-packages (from openai) (3.7.1)\n",
            "Requirement already satisfied: distro<2,>=1.7.0 in /usr/local/lib/python3.10/dist-packages (from openai) (1.9.0)\n",
            "Requirement already satisfied: httpx<1,>=0.23.0 in /usr/local/lib/python3.10/dist-packages (from openai) (0.28.1)\n",
            "Requirement already satisfied: jiter<1,>=0.4.0 in /usr/local/lib/python3.10/dist-packages (from openai) (0.8.2)\n",
            "Requirement already satisfied: pydantic<3,>=1.9.0 in /usr/local/lib/python3.10/dist-packages (from openai) (2.10.3)\n",
            "Requirement already satisfied: sniffio in /usr/local/lib/python3.10/dist-packages (from openai) (1.3.1)\n",
            "Requirement already satisfied: tqdm>4 in /usr/local/lib/python3.10/dist-packages (from openai) (4.67.1)\n",
            "Requirement already satisfied: typing-extensions<5,>=4.11 in /usr/local/lib/python3.10/dist-packages (from openai) (4.12.2)\n",
            "Requirement already satisfied: idna>=2.8 in /usr/local/lib/python3.10/dist-packages (from anyio<5,>=3.5.0->openai) (3.10)\n",
            "Requirement already satisfied: exceptiongroup in /usr/local/lib/python3.10/dist-packages (from anyio<5,>=3.5.0->openai) (1.2.2)\n",
            "Requirement already satisfied: certifi in /usr/local/lib/python3.10/dist-packages (from httpx<1,>=0.23.0->openai) (2024.12.14)\n",
            "Requirement already satisfied: httpcore==1.* in /usr/local/lib/python3.10/dist-packages (from httpx<1,>=0.23.0->openai) (1.0.7)\n",
            "Requirement already satisfied: h11<0.15,>=0.13 in /usr/local/lib/python3.10/dist-packages (from httpcore==1.*->httpx<1,>=0.23.0->openai) (0.14.0)\n",
            "Requirement already satisfied: annotated-types>=0.6.0 in /usr/local/lib/python3.10/dist-packages (from pydantic<3,>=1.9.0->openai) (0.7.0)\n",
            "Requirement already satisfied: pydantic-core==2.27.1 in /usr/local/lib/python3.10/dist-packages (from pydantic<3,>=1.9.0->openai) (2.27.1)\n"
          ]
        }
      ],
      "source": [
        "!pip install --upgrade openai"
      ]
    },
    {
      "cell_type": "code",
      "execution_count": 56,
      "metadata": {
        "colab": {
          "base_uri": "https://localhost:8080/",
          "height": 1000
        },
        "id": "cbPhgqFho3nZ",
        "outputId": "16ae8af5-ce4a-4b07-9dda-4206d0b17805"
      },
      "outputs": [
        {
          "name": "stdout",
          "output_type": "stream",
          "text": [
            "Enter your fitness goal (e.g., 'build muscle', 'lose weight'): lose weight\n",
            "Enter a celebrity's name for workout inspiration (or leave blank): kate upton\n"
          ]
        },
        {
          "output_type": "display_data",
          "data": {
            "text/plain": [
              "<IPython.core.display.Markdown object>"
            ],
            "text/markdown": "## Workout Plan\nGenerate a visual representation of a lose weight plan."
          },
          "metadata": {}
        },
        {
          "output_type": "display_data",
          "data": {
            "text/plain": [
              "<IPython.core.display.Markdown object>"
            ],
            "text/markdown": "![Workout Image](https://oaidalleapiprodscus.blob.core.windows.net/private/org-RyshVI88xm7djdYfwjL6AulT/user-9RiMt9bA1SgUJYqe6OP2QkLg/img-5vt7WawUVKQhzoloTTfux5tT.png?st=2024-12-28T18%3A32%3A24Z&se=2024-12-28T20%3A32%3A24Z&sp=r&sv=2024-08-04&sr=b&rscd=inline&rsct=image/png&skoid=d505667d-d6c1-4a0a-bac7-5c84a87759f8&sktid=a48cca56-e6da-484e-a814-9c849652bcb3&skt=2024-12-27T20%3A55%3A39Z&ske=2024-12-28T20%3A55%3A39Z&sks=b&skv=2024-08-04&sig=Og9pU3H%2BHUXT4L/kc50PWIS6f1E0WoxylXh49GCwfLY%3D)"
          },
          "metadata": {}
        },
        {
          "output_type": "display_data",
          "data": {
            "text/plain": [
              "<IPython.core.display.Markdown object>"
            ],
            "text/markdown": "## Meal Plan\nGenerate a visual representation of a lose weight plan."
          },
          "metadata": {}
        },
        {
          "output_type": "display_data",
          "data": {
            "text/plain": [
              "<IPython.core.display.Markdown object>"
            ],
            "text/markdown": "![Meal Image](https://oaidalleapiprodscus.blob.core.windows.net/private/org-RyshVI88xm7djdYfwjL6AulT/user-9RiMt9bA1SgUJYqe6OP2QkLg/img-aMLSK6y50c68epexxnw7aQ0e.png?st=2024-12-28T18%3A32%3A37Z&se=2024-12-28T20%3A32%3A37Z&sp=r&sv=2024-08-04&sr=b&rscd=inline&rsct=image/png&skoid=d505667d-d6c1-4a0a-bac7-5c84a87759f8&sktid=a48cca56-e6da-484e-a814-9c849652bcb3&skt=2024-12-27T21%3A00%3A13Z&ske=2024-12-28T21%3A00%3A13Z&sks=b&skv=2024-08-04&sig=SSS9t7Ht1A3Rcpm/DtK4/XjF9PSfCsKTQISEOQ65fKQ%3D)"
          },
          "metadata": {}
        },
        {
          "output_type": "display_data",
          "data": {
            "text/plain": [
              "<IPython.core.display.Markdown object>"
            ],
            "text/markdown": "## AI Recommendation\nBased on your age and resting BPM prediction (74.0), focus on a balanced routine with regular breaks."
          },
          "metadata": {}
        }
      ],
      "source": [
        "# Get user preferences\n",
        "user_preferences = get_user_preferences()\n",
        "\n",
        "# Generate workout and meal plans\n",
        "workout_plan = fetch_workout_data(user_preferences['fitness_goal'], user_preferences.get('celebrity_preference'))\n",
        "meal_plan = fetch_meal_plan(user_preferences['fitness_goal'])\n",
        "\n",
        "# Generate recommendations using the trained ML model\n",
        "predicted_bpm = model.predict(pd.DataFrame([[30]], columns=['Age']))[0]  # Example age input\n",
        "recommendation = f\"Based on your age and resting BPM prediction ({predicted_bpm}), focus on a balanced routine with regular breaks.\"\n",
        "\n",
        "# Display results with generated visuals\n",
        "display_results_with_images(workout_plan, meal_plan, recommendation)"
      ]
    },
    {
      "cell_type": "code",
      "execution_count": null,
      "metadata": {
        "id": "3RigmmJFo3nZ"
      },
      "outputs": [],
      "source": []
    },
    {
      "cell_type": "code",
      "execution_count": null,
      "metadata": {
        "id": "OBzjArCko3nZ"
      },
      "outputs": [],
      "source": []
    },
    {
      "cell_type": "code",
      "execution_count": null,
      "metadata": {
        "id": "eKs9j0-to3nZ"
      },
      "outputs": [],
      "source": []
    },
    {
      "cell_type": "code",
      "execution_count": null,
      "metadata": {
        "id": "6M-bCop9o3nZ"
      },
      "outputs": [],
      "source": []
    },
    {
      "cell_type": "code",
      "execution_count": null,
      "metadata": {
        "id": "tY8CxQ88dadv"
      },
      "outputs": [],
      "source": []
    }
  ],
  "metadata": {
    "colab": {
      "provenance": []
    },
    "kernelspec": {
      "display_name": "Python 3 (ipykernel)",
      "language": "python",
      "name": "python3"
    },
    "language_info": {
      "codemirror_mode": {
        "name": "ipython",
        "version": 3
      },
      "file_extension": ".py",
      "mimetype": "text/x-python",
      "name": "python",
      "nbconvert_exporter": "python",
      "pygments_lexer": "ipython3",
      "version": "3.12.2"
    }
  },
  "nbformat": 4,
  "nbformat_minor": 0
}